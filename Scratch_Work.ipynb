{
 "cells": [
  {
   "cell_type": "code",
   "execution_count": null,
   "metadata": {},
   "outputs": [],
   "source": [
    "# import geopandas as gpd\n",
    "# import sys\n",
    "# import fiona\n",
    "# from osgeo import ogr\n",
    "# path_to_db = \n",
    "\n",
    "# opened_fema = fiona.open(\"FEMA/fema-nfhl-48-20180119.gdb/\")\n",
    "# opened_fema\n",
    "\n",
    "# layerlist = fiona.listlayers(\"FEMA/fema-nfhl-48-20180119.gdb/\")\n",
    "# print(layerlist)\n",
    "# for i in sorted(layerlist):\n",
    "#     df = gpd.read_file(\"FEMA/fema-nfhl-48-20180119.gdb/\",layer=i)\n",
    "#     print(df.columns)\n",
    "#     break"
   ]
  }
 ],
 "metadata": {
  "kernelspec": {
   "display_name": "Python 3",
   "language": "python",
   "name": "python3"
  },
  "language_info": {
   "codemirror_mode": {
    "name": "ipython",
    "version": 3
   },
   "file_extension": ".py",
   "mimetype": "text/x-python",
   "name": "python",
   "nbconvert_exporter": "python",
   "pygments_lexer": "ipython3",
   "version": "3.6.8"
  }
 },
 "nbformat": 4,
 "nbformat_minor": 2
}
